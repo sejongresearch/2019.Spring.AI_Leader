{
  "nbformat": 4,
  "nbformat_minor": 0,
  "metadata": {
    "colab": {
      "name": "데이터 전처리.ipynb의 사본",
      "version": "0.3.2",
      "provenance": [],
      "collapsed_sections": [],
      "include_colab_link": true
    },
    "kernelspec": {
      "name": "python3",
      "display_name": "Python 3"
    },
    "accelerator": "GPU"
  },
  "cells": [
    {
      "cell_type": "markdown",
      "metadata": {
        "id": "view-in-github",
        "colab_type": "text"
      },
      "source": [
        "<a href=\"https://colab.research.google.com/github/socome/2019.Spring.AI_Leader/blob/master/%EB%8D%B0%EC%9D%B4%ED%84%B0_%EC%A0%84%EC%B2%98%EB%A6%AC_ipynb%EC%9D%98_%EC%82%AC%EB%B3%B8.ipynb\" target=\"_parent\"><img src=\"https://colab.research.google.com/assets/colab-badge.svg\" alt=\"Open In Colab\"/></a>"
      ]
    },
    {
      "cell_type": "code",
      "metadata": {
        "id": "NVFa5HXlsEK1",
        "colab_type": "code",
        "colab": {}
      },
      "source": [
        "import torch\n",
        "import torch.nn as nn\n",
        "import torch.nn.functional as F\n",
        "import numpy as np\n",
        "import tensorflow as tf\n",
        "\n",
        "from torch.autograd import Variable\n",
        "from torchvision.models import resnet18\n",
        "\n",
        "from tensorflow import keras\n",
        "from keras.preprocessing import image"
      ],
      "execution_count": 0,
      "outputs": []
    },
    {
      "cell_type": "code",
      "metadata": {
        "id": "uqsULtEewAJy",
        "colab_type": "code",
        "outputId": "51ef2ec6-4b34-424b-829c-94084673afed",
        "colab": {
          "base_uri": "https://localhost:8080/",
          "height": 51
        }
      },
      "source": [
        "from google.colab import drive\n",
        "import os\n",
        "\n",
        "if os.path.exists('/content/gdrive')==False:\n",
        "    drive.mount('/content/gdrive')\n",
        "    print('Google Drive is mounted\\n')\n",
        "else:\n",
        "    print('Google Drive is already mounted\\n')"
      ],
      "execution_count": 0,
      "outputs": [
        {
          "output_type": "stream",
          "text": [
            "Google Drive is already mounted\n",
            "\n"
          ],
          "name": "stdout"
        }
      ]
    },
    {
      "cell_type": "code",
      "metadata": {
        "id": "EuJUd_WDw8SB",
        "colab_type": "code",
        "outputId": "3c167825-ef0b-4a16-c879-528e8d988fed",
        "colab": {
          "base_uri": "https://localhost:8080/",
          "height": 34
        }
      },
      "source": [
        "image_lists = os.listdir(os.path.join('./gdrive/My Drive/AILeader_Dataset/세종대 정문/'))\n",
        "image_lists.sort()\n",
        "\n",
        "img = image.load_img(os.path.join('./gdrive/My Drive/AILeader_Dataset/세종대 정문/',image_lists[0]), target_size=(128, 128))\n",
        "img = image.img_to_array(img)\n",
        "img = img.reshape((3,128,128))\n",
        "List_door = np.array(img)\n",
        "List_door = List_door[np.newaxis, :, :, :]\n",
        "\n",
        "for ii, image_list in enumerate(image_lists): \n",
        "  if ii is not 0 :\n",
        "    img = image.load_img(os.path.join('./gdrive/My Drive/AILeader_Dataset/세종대 정문/',image_list), target_size=(128, 128))\n",
        "    x = image.img_to_array(img)\n",
        "    x = x.reshape((3,128,128))\n",
        "    x = x[np.newaxis, :, :, :]\n",
        "    List_door = np.concatenate((List_door, x))\n",
        "\n",
        "np.save('./gdrive/My Drive/AILeader_Dataset/세종대정문',List_door)\n",
        "    \n",
        "List_door.shape"
      ],
      "execution_count": 0,
      "outputs": [
        {
          "output_type": "execute_result",
          "data": {
            "text/plain": [
              "(98, 3, 128, 128)"
            ]
          },
          "metadata": {
            "tags": []
          },
          "execution_count": 17
        }
      ]
    },
    {
      "cell_type": "code",
      "metadata": {
        "id": "aPdFu6oe4X6H",
        "colab_type": "code",
        "outputId": "9fdffea3-c6b8-4fae-87a7-59ae5761881d",
        "colab": {
          "base_uri": "https://localhost:8080/",
          "height": 34
        }
      },
      "source": [
        "image_lists = os.listdir(os.path.join('./gdrive/My Drive/AILeader_Dataset/어린이대공원정문/'))\n",
        "image_lists.sort()\n",
        "\n",
        "img = image.load_img(os.path.join('./gdrive/My Drive/AILeader_Dataset/어린이대공원정문/',image_lists[0]), target_size=(128, 128))\n",
        "img = image.img_to_array(img)\n",
        "img = img.reshape((3,128,128))\n",
        "List_C_door = np.array(img)\n",
        "List_C_door = List_C_door[np.newaxis, :, :, :]\n",
        "\n",
        "for ii, image_list in enumerate(image_lists): \n",
        "  if ii is not 0 :\n",
        "    img = image.load_img(os.path.join('./gdrive/My Drive/AILeader_Dataset/어린이대공원정문/',image_list), target_size=(128, 128))\n",
        "    x = image.img_to_array(img)\n",
        "    x = x.reshape((3,128,128))\n",
        "    x = x[np.newaxis, :, :, :]\n",
        "    List_C_door = np.concatenate((List_C_door, x))\n",
        "\n",
        "np.save('./gdrive/My Drive/AILeader_Dataset/어린이대공원정문',List_C_door)\n",
        "    \n",
        "List_C_door.shape"
      ],
      "execution_count": 0,
      "outputs": [
        {
          "output_type": "execute_result",
          "data": {
            "text/plain": [
              "(170, 3, 128, 128)"
            ]
          },
          "metadata": {
            "tags": []
          },
          "execution_count": 18
        }
      ]
    },
    {
      "cell_type": "code",
      "metadata": {
        "id": "yTKbu6Kq6m0W",
        "colab_type": "code",
        "outputId": "426622d6-9744-441f-c0dd-ba4eeba558e9",
        "colab": {
          "base_uri": "https://localhost:8080/",
          "height": 34
        }
      },
      "source": [
        "image_lists = os.listdir(os.path.join('./gdrive/My Drive/AILeader_Dataset/대양AI센터/'))\n",
        "image_lists.sort()\n",
        "\n",
        "img = image.load_img(os.path.join('./gdrive/My Drive/AILeader_Dataset/대양AI센터/',image_lists[0]), target_size=(128, 128))\n",
        "img = image.img_to_array(img)\n",
        "img = img.reshape((3,128,128))\n",
        "AI_center = np.array(img)\n",
        "AI_center = AI_center[np.newaxis, :, :, :]\n",
        "\n",
        "for ii, image_list in enumerate(image_lists): \n",
        "  if ii is not 0 :\n",
        "    img = image.load_img(os.path.join('./gdrive/My Drive/AILeader_Dataset/대양AI센터/',image_list), target_size=(128, 128))\n",
        "    x = image.img_to_array(img)\n",
        "    x = x.reshape((3,128,128))\n",
        "    x = x[np.newaxis, :, :, :]\n",
        "    AI_center = np.concatenate((AI_center, x))\n",
        "\n",
        "np.save('./gdrive/My Drive/AILeader_Dataset/대양AI센터',AI_center)\n",
        "    \n",
        "AI_center.shape"
      ],
      "execution_count": 0,
      "outputs": [
        {
          "output_type": "execute_result",
          "data": {
            "text/plain": [
              "(184, 3, 128, 128)"
            ]
          },
          "metadata": {
            "tags": []
          },
          "execution_count": 19
        }
      ]
    },
    {
      "cell_type": "code",
      "metadata": {
        "id": "6sz0gKiQJlm9",
        "colab_type": "code",
        "outputId": "f9455922-9321-4449-b71c-d5f8d5b2c045",
        "colab": {
          "base_uri": "https://localhost:8080/",
          "height": 34
        }
      },
      "source": [
        "image_lists = os.listdir(os.path.join('./gdrive/My Drive/AILeader_Dataset/세종대 시계탑/'))\n",
        "image_lists.sort()\n",
        "\n",
        "img = image.load_img(os.path.join('./gdrive/My Drive/AILeader_Dataset/세종대 시계탑/',image_lists[0]), target_size=(128, 128))\n",
        "img = image.img_to_array(img)\n",
        "img = img.reshape((3,128,128))\n",
        "C_Tower = np.array(img)\n",
        "C_Tower = C_Tower[np.newaxis, :, :, :]\n",
        "\n",
        "for ii, image_list in enumerate(image_lists): \n",
        "  if ii is not 0 :\n",
        "    img = image.load_img(os.path.join('./gdrive/My Drive/AILeader_Dataset/세종대 시계탑/',image_list), target_size=(128, 128))\n",
        "    x = image.img_to_array(img)\n",
        "    x = x.reshape((3,128,128))\n",
        "    x = x[np.newaxis, :, :, :]\n",
        "    C_Tower = np.concatenate((C_Tower, x))\n",
        "\n",
        "np.save('./gdrive/My Drive/AILeader_Dataset/세종대 시계탑',C_Tower)\n",
        "    \n",
        "C_Tower.shape"
      ],
      "execution_count": 0,
      "outputs": [
        {
          "output_type": "execute_result",
          "data": {
            "text/plain": [
              "(109, 3, 128, 128)"
            ]
          },
          "metadata": {
            "tags": []
          },
          "execution_count": 20
        }
      ]
    },
    {
      "cell_type": "code",
      "metadata": {
        "id": "goGEviVHKPxK",
        "colab_type": "code",
        "outputId": "403a3fd0-323d-4806-ad92-9086f852b564",
        "colab": {
          "base_uri": "https://localhost:8080/",
          "height": 34
        }
      },
      "source": [
        "image_lists = os.listdir(os.path.join('./gdrive/My Drive/AILeader_Dataset/박물관/'))\n",
        "image_lists.sort()\n",
        "\n",
        "img = image.load_img(os.path.join('./gdrive/My Drive/AILeader_Dataset/박물관/',image_lists[0]), target_size=(128, 128))\n",
        "img = image.img_to_array(img)\n",
        "img = img.reshape((3,128,128))\n",
        "\n",
        "Museum = np.array(img)\n",
        "Museum = Museum[np.newaxis, :, :, :]\n",
        "\n",
        "for ii, image_list in enumerate(image_lists): \n",
        "  if ii is not 0 :\n",
        "    img = image.load_img(os.path.join('./gdrive/My Drive/AILeader_Dataset/박물관/',image_list), target_size=(128, 128))\n",
        "    x = image.img_to_array(img)\n",
        "    x = x.reshape((3,128,128))\n",
        "    x = x[np.newaxis, :, :, :]\n",
        "    Museum = np.concatenate((Museum, x))\n",
        "\n",
        "\n",
        "np.save('./gdrive/My Drive/AILeader_Dataset/박물관',Museum)\n",
        "    \n",
        "Museum.shape"
      ],
      "execution_count": 0,
      "outputs": [
        {
          "output_type": "execute_result",
          "data": {
            "text/plain": [
              "(110, 3, 128, 128)"
            ]
          },
          "metadata": {
            "tags": []
          },
          "execution_count": 21
        }
      ]
    },
    {
      "cell_type": "code",
      "metadata": {
        "id": "ajdJgIjQVjPM",
        "colab_type": "code",
        "outputId": "ce38f3be-f3a8-4478-fdcd-6b34aeee0308",
        "colab": {
          "base_uri": "https://localhost:8080/",
          "height": 34
        }
      },
      "source": [
        "image_lists = os.listdir(os.path.join('./gdrive/My Drive/AILeader_Dataset/광나루안전체험관/'))\n",
        "image_lists.sort()\n",
        "\n",
        "img = image.load_img(os.path.join('./gdrive/My Drive/AILeader_Dataset/광나루안전체험관/',image_lists[0]), target_size=(128, 128))\n",
        "img = image.img_to_array(img)\n",
        "img = img.reshape((3,128,128))\n",
        "\n",
        "Experience_Center = np.array(img)\n",
        "Experience_Center = Experience_Center[np.newaxis, :, :, :]\n",
        "\n",
        "for ii, image_list in enumerate(image_lists): \n",
        "  if ii is not 0 :\n",
        "    img = image.load_img(os.path.join('./gdrive/My Drive/AILeader_Dataset/광나루안전체험관/',image_list), target_size=(128, 128))\n",
        "    x = image.img_to_array(img)\n",
        "    x = x.reshape((3,128,128))\n",
        "    x = x[np.newaxis, :, :, :]\n",
        "    Experience_Center = np.concatenate((Experience_Center, x))\n",
        "\n",
        "\n",
        "np.save('./gdrive/My Drive/AILeader_Dataset/광나루안전체험관',Experience_Center)\n",
        "    \n",
        "Experience_Center.shape"
      ],
      "execution_count": 0,
      "outputs": [
        {
          "output_type": "execute_result",
          "data": {
            "text/plain": [
              "(73, 3, 128, 128)"
            ]
          },
          "metadata": {
            "tags": []
          },
          "execution_count": 22
        }
      ]
    },
    {
      "cell_type": "code",
      "metadata": {
        "id": "a0SIGx4SVki_",
        "colab_type": "code",
        "outputId": "3a979c1b-a972-46f4-d905-8d32f1c95a44",
        "colab": {
          "base_uri": "https://localhost:8080/",
          "height": 34
        }
      },
      "source": [
        "image_lists = os.listdir(os.path.join('./gdrive/My Drive/AILeader_Dataset/기숙사/'))\n",
        "image_lists.sort()\n",
        "\n",
        "img = image.load_img(os.path.join('./gdrive/My Drive/AILeader_Dataset/기숙사/',image_lists[0]), target_size=(128, 128))\n",
        "img = image.img_to_array(img)\n",
        "img = img.reshape((3,128,128))\n",
        "\n",
        "Dormitory = np.array(img)\n",
        "Dormitory = Dormitory[np.newaxis, :, :, :]\n",
        "\n",
        "for ii, image_list in enumerate(image_lists): \n",
        "  if ii is not 0 :\n",
        "    img = image.load_img(os.path.join('./gdrive/My Drive/AILeader_Dataset/기숙사/',image_list), target_size=(128, 128))\n",
        "    x = image.img_to_array(img)\n",
        "    x = x.reshape((3,128,128))\n",
        "    x = x[np.newaxis, :, :, :]\n",
        "    Dormitory = np.concatenate((Museum, x))\n",
        "\n",
        "\n",
        "np.save('./gdrive/My Drive/AILeader_Dataset/기숙사',Dormitory)\n",
        "    \n",
        "Dormitory.shape"
      ],
      "execution_count": 0,
      "outputs": [
        {
          "output_type": "execute_result",
          "data": {
            "text/plain": [
              "(111, 3, 128, 128)"
            ]
          },
          "metadata": {
            "tags": []
          },
          "execution_count": 23
        }
      ]
    },
    {
      "cell_type": "code",
      "metadata": {
        "id": "Fh3D3jVqVlgX",
        "colab_type": "code",
        "outputId": "8262acb4-0c08-49e8-d40f-05115506a004",
        "colab": {
          "base_uri": "https://localhost:8080/",
          "height": 34
        }
      },
      "source": [
        "image_lists = os.listdir(os.path.join('./gdrive/My Drive/AILeader_Dataset/석상(대양홀앞)/'))\n",
        "image_lists.sort()\n",
        "\n",
        "img = image.load_img(os.path.join('./gdrive/My Drive/AILeader_Dataset/석상(대양홀앞)/',image_lists[0]), target_size=(128, 128))\n",
        "img = image.img_to_array(img)\n",
        "img = img.reshape((3,128,128))\n",
        "\n",
        "Stone_Statue = np.array(img)\n",
        "Stone_Statue = Stone_Statue[np.newaxis, :, :, :]\n",
        "\n",
        "for ii, image_list in enumerate(image_lists): \n",
        "  if ii is not 0 :\n",
        "    img = image.load_img(os.path.join('./gdrive/My Drive/AILeader_Dataset/석상(대양홀앞)/',image_list), target_size=(128, 128))\n",
        "    x = image.img_to_array(img)\n",
        "    x = x.reshape((3,128,128))\n",
        "    x = x[np.newaxis, :, :, :]\n",
        "    Stone_Statue = np.concatenate((Stone_Statue, x))\n",
        "\n",
        "\n",
        "np.save('./gdrive/My Drive/AILeader_Dataset/석상(대양홀앞)',Stone_Statue)\n",
        "    \n",
        "Stone_Statue.shape"
      ],
      "execution_count": 0,
      "outputs": [
        {
          "output_type": "execute_result",
          "data": {
            "text/plain": [
              "(108, 3, 128, 128)"
            ]
          },
          "metadata": {
            "tags": []
          },
          "execution_count": 24
        }
      ]
    },
    {
      "cell_type": "code",
      "metadata": {
        "id": "MMFA8p13VmMc",
        "colab_type": "code",
        "outputId": "169dff2c-6742-4be0-f781-3a1367ed1bda",
        "colab": {
          "base_uri": "https://localhost:8080/",
          "height": 34
        }
      },
      "source": [
        "image_lists = os.listdir(os.path.join('./gdrive/My Drive/AILeader_Dataset/소방서/'))\n",
        "image_lists.sort()\n",
        "\n",
        "img = image.load_img(os.path.join('./gdrive/My Drive/AILeader_Dataset/소방서/',image_lists[0]), target_size=(128, 128))\n",
        "img = image.img_to_array(img)\n",
        "img = img.reshape((3,128,128))\n",
        "\n",
        "Fire_Station = np.array(img)\n",
        "Fire_Station = Fire_Station[np.newaxis, :, :, :]\n",
        "\n",
        "for ii, image_list in enumerate(image_lists): \n",
        "  if ii is not 0 :\n",
        "    img = image.load_img(os.path.join('./gdrive/My Drive/AILeader_Dataset/소방서/',image_list), target_size=(128, 128))\n",
        "    x = image.img_to_array(img)\n",
        "    x = x.reshape((3,128,128))\n",
        "    x = x[np.newaxis, :, :, :]\n",
        "    Fire_Station = np.concatenate((Fire_Station, x))\n",
        "\n",
        "\n",
        "np.save('./gdrive/My Drive/AILeader_Dataset/소방서',Fire_Station)\n",
        "    \n",
        "Fire_Station.shape"
      ],
      "execution_count": 0,
      "outputs": [
        {
          "output_type": "execute_result",
          "data": {
            "text/plain": [
              "(54, 3, 128, 128)"
            ]
          },
          "metadata": {
            "tags": []
          },
          "execution_count": 25
        }
      ]
    },
    {
      "cell_type": "code",
      "metadata": {
        "id": "ToOTYVxIVm2A",
        "colab_type": "code",
        "outputId": "6707cdcb-9683-4403-858f-99bfcdc341d3",
        "colab": {
          "base_uri": "https://localhost:8080/",
          "height": 34
        }
      },
      "source": [
        "image_lists = os.listdir(os.path.join('./gdrive/My Drive/AILeader_Dataset/학생회관/'))\n",
        "image_lists.sort()\n",
        "\n",
        "img = image.load_img(os.path.join('./gdrive/My Drive/AILeader_Dataset/학생회관/',image_lists[0]), target_size=(128, 128))\n",
        "img = image.img_to_array(img)\n",
        "img = img.reshape((3,128,128))\n",
        "\n",
        "Student_Hall = np.array(img)\n",
        "Student_Hall = Student_Hall[np.newaxis, :, :, :]\n",
        "\n",
        "for ii, image_list in enumerate(image_lists): \n",
        "  if ii is not 0 :\n",
        "    img = image.load_img(os.path.join('./gdrive/My Drive/AILeader_Dataset/학생회관/',image_list), target_size=(128, 128))\n",
        "    x = image.img_to_array(img)\n",
        "    x = x.reshape((3,128,128))\n",
        "    x = x[np.newaxis, :, :, :]\n",
        "    Student_Hall = np.concatenate((Museum, x))\n",
        "\n",
        "\n",
        "np.save('./gdrive/My Drive/AILeader_Dataset/학생회관',Student_Hall)\n",
        "    \n",
        "Student_Hall.shape"
      ],
      "execution_count": 0,
      "outputs": [
        {
          "output_type": "execute_result",
          "data": {
            "text/plain": [
              "(111, 3, 128, 128)"
            ]
          },
          "metadata": {
            "tags": []
          },
          "execution_count": 26
        }
      ]
    },
    {
      "cell_type": "code",
      "metadata": {
        "id": "JrfD-ILt-2BN",
        "colab_type": "code",
        "colab": {}
      },
      "source": [
        "List_C_door = np.load('./gdrive/My Drive/AILeader_Dataset/어린이대공원정문.npy')\n",
        "List_door = np.load('./gdrive/My Drive/AILeader_Dataset/세종대정문.npy')\n",
        "AI_center = np.load('./gdrive/My Drive/AILeader_Dataset/대양AI센터.npy')\n",
        "Museum = np.load('./gdrive/My Drive/AILeader_Dataset/박물관.npy')\n",
        "C_Tower = np.load('./gdrive/My Drive/AILeader_Dataset/세종대 시계탑.npy')\n",
        "#Experience_Center = np.load('./gdrive/My Drive/AILeader_Dataset/광나루안전체험관.npy')\n",
        "#Dormitory = np.load('./gdrive/My Drive/AILeader_Dataset/기숙사.npy')\n",
        "#Stone_Statue = np.load('./gdrive/My Drive/AILeader_Dataset/석상(대양홀앞).npy')\n",
        "#Fire_Station = np.load('./gdrive/My Drive/AILeader_Dataset/소방서.npy')\n",
        "#Student_Hall = np.load('./gdrive/My Drive/AILeader_Dataset/학생회관.npy')"
      ],
      "execution_count": 0,
      "outputs": []
    },
    {
      "cell_type": "code",
      "metadata": {
        "id": "mqKcZT_-ZHTF",
        "colab_type": "code",
        "colab": {}
      },
      "source": [
        ""
      ],
      "execution_count": 0,
      "outputs": []
    }
  ]
}