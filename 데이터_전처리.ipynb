{
  "nbformat": 4,
  "nbformat_minor": 0,
  "metadata": {
    "colab": {
      "name": "데이터 전처리",
      "version": "0.3.2",
      "provenance": [],
      "collapsed_sections": []
    },
    "kernelspec": {
      "name": "python3",
      "display_name": "Python 3"
    }
  },
  "cells": [
    {
      "cell_type": "markdown",
      "metadata": {
        "id": "fb1seDMi8-i_",
        "colab_type": "text"
      },
      "source": [
        "# 데이터 전처리"
      ]
    },
    {
      "cell_type": "code",
      "metadata": {
        "id": "Wi544WDn89XK",
        "colab_type": "code",
        "colab": {}
      },
      "source": [
        "import torch\n",
        "import torch.nn as nn\n",
        "import torch.nn.functional as F\n",
        "import numpy as np\n",
        "import tensorflow as tf\n",
        "\n",
        "from torch.autograd import Variable\n",
        "from torchvision.models import resnet18\n",
        "\n",
        "from tensorflow import keras\n",
        "from keras.preprocessing import image"
      ],
      "execution_count": 0,
      "outputs": []
    },
    {
      "cell_type": "code",
      "metadata": {
        "id": "MIsZonpC9Ip4",
        "colab_type": "code",
        "colab": {}
      },
      "source": [
        "from google.colab import drive\n",
        "import os\n",
        "\n",
        "if os.path.exists('/content/gdrive')==False:\n",
        "    drive.mount('/content/gdrive')\n",
        "    print('Google Drive is mounted\\n')\n",
        "else:\n",
        "    print('Google Drive is already mounted\\n')"
      ],
      "execution_count": 0,
      "outputs": []
    },
    {
      "cell_type": "code",
      "metadata": {
        "id": "AMsXqsEn9LOV",
        "colab_type": "code",
        "colab": {}
      },
      "source": [
        "image_lists = os.listdir(os.path.join('./gdrive/My Drive/AILeader_Dataset/세종대 정문/'))\n",
        "image_lists.sort()\n",
        "\n",
        "img = image.load_img(os.path.join('./gdrive/My Drive/AILeader_Dataset/세종대 정문/',image_lists[0]), target_size=(128, 128))\n",
        "img = image.img_to_array(img)\n",
        "img = img.reshape((3,128,128))\n",
        "List_door = np.array(img)\n",
        "List_door = List_door[np.newaxis, :, :, :]\n",
        "\n",
        "for ii, image_list in enumerate(image_lists): \n",
        "  if ii is not 0 :\n",
        "    img = image.load_img(os.path.join('./gdrive/My Drive/AILeader_Dataset/세종대 정문/',image_list), target_size=(128, 128))\n",
        "    x = image.img_to_array(img)\n",
        "    x = x.reshape((3,128,128))\n",
        "    x = x[np.newaxis, :, :, :]\n",
        "    List_door = np.concatenate((List_door, x))\n",
        "\n",
        "np.save('./gdrive/My Drive/AILeader_Dataset/세종대정문',List_door)\n",
        "    \n",
        "List_door.shape"
      ],
      "execution_count": 0,
      "outputs": []
    },
    {
      "cell_type": "code",
      "metadata": {
        "id": "yFBCvpC89Nkx",
        "colab_type": "code",
        "colab": {}
      },
      "source": [
        "image_lists = os.listdir(os.path.join('./gdrive/My Drive/AILeader_Dataset/어린이대공원정문/'))\n",
        "image_lists.sort()\n",
        "\n",
        "img = image.load_img(os.path.join('./gdrive/My Drive/AILeader_Dataset/어린이대공원정문/',image_lists[0]), target_size=(128, 128))\n",
        "img = image.img_to_array(img)\n",
        "img = img.reshape((3,128,128))\n",
        "List_C_door = np.array(img)\n",
        "List_C_door = List_C_door[np.newaxis, :, :, :]\n",
        "\n",
        "for ii, image_list in enumerate(image_lists): \n",
        "  if ii is not 0 :\n",
        "    img = image.load_img(os.path.join('./gdrive/My Drive/AILeader_Dataset/어린이대공원정문/',image_list), target_size=(128, 128))\n",
        "    x = image.img_to_array(img)\n",
        "    x = x.reshape((3,128,128))\n",
        "    x = x[np.newaxis, :, :, :]\n",
        "    List_C_door = np.concatenate((List_C_door, x))\n",
        "\n",
        "np.save('./gdrive/My Drive/AILeader_Dataset/어린이대공원정문',List_C_door)\n",
        "    \n",
        "List_C_door.shape"
      ],
      "execution_count": 0,
      "outputs": []
    },
    {
      "cell_type": "code",
      "metadata": {
        "id": "CyEVMGNi9PiW",
        "colab_type": "code",
        "colab": {}
      },
      "source": [
        "image_lists = os.listdir(os.path.join('./gdrive/My Drive/AILeader_Dataset/대양AI센터/'))\n",
        "image_lists.sort()\n",
        "\n",
        "img = image.load_img(os.path.join('./gdrive/My Drive/AILeader_Dataset/대양AI센터/',image_lists[0]), target_size=(128, 128))\n",
        "img = image.img_to_array(img)\n",
        "img = img.reshape((3,128,128))\n",
        "AI_center = np.array(img)\n",
        "AI_center = AI_center[np.newaxis, :, :, :]\n",
        "\n",
        "for ii, image_list in enumerate(image_lists): \n",
        "  if ii is not 0 :\n",
        "    img = image.load_img(os.path.join('./gdrive/My Drive/AILeader_Dataset/대양AI센터/',image_list), target_size=(128, 128))\n",
        "    x = image.img_to_array(img)\n",
        "    x = x.reshape((3,128,128))\n",
        "    x = x[np.newaxis, :, :, :]\n",
        "    AI_center = np.concatenate((AI_center, x))\n",
        "\n",
        "np.save('./gdrive/My Drive/AILeader_Dataset/대양AI센터',AI_center)\n",
        "    \n",
        "AI_center.shape"
      ],
      "execution_count": 0,
      "outputs": []
    },
    {
      "cell_type": "code",
      "metadata": {
        "id": "e4i7o6Hx9RYO",
        "colab_type": "code",
        "colab": {}
      },
      "source": [
        "image_lists = os.listdir(os.path.join('./gdrive/My Drive/AILeader_Dataset/세종대 시계탑/'))\n",
        "image_lists.sort()\n",
        "\n",
        "img = image.load_img(os.path.join('./gdrive/My Drive/AILeader_Dataset/세종대 시계탑/',image_lists[0]), target_size=(128, 128))\n",
        "img = image.img_to_array(img)\n",
        "img = img.reshape((3,128,128))\n",
        "C_Tower = np.array(img)\n",
        "C_Tower = C_Tower[np.newaxis, :, :, :]\n",
        "\n",
        "for ii, image_list in enumerate(image_lists): \n",
        "  if ii is not 0 :\n",
        "    img = image.load_img(os.path.join('./gdrive/My Drive/AILeader_Dataset/세종대 시계탑/',image_list), target_size=(128, 128))\n",
        "    x = image.img_to_array(img)\n",
        "    x = x.reshape((3,128,128))\n",
        "    x = x[np.newaxis, :, :, :]\n",
        "    C_Tower = np.concatenate((C_Tower, x))\n",
        "\n",
        "np.save('./gdrive/My Drive/AILeader_Dataset/세종대 시계탑',C_Tower)\n",
        "    \n",
        "C_Tower.shape"
      ],
      "execution_count": 0,
      "outputs": []
    },
    {
      "cell_type": "code",
      "metadata": {
        "id": "j88uzPGv9Tpb",
        "colab_type": "code",
        "colab": {}
      },
      "source": [
        "image_lists = os.listdir(os.path.join('./gdrive/My Drive/AILeader_Dataset/박물관/'))\n",
        "image_lists.sort()\n",
        "\n",
        "img = image.load_img(os.path.join('./gdrive/My Drive/AILeader_Dataset/박물관/',image_lists[0]), target_size=(128, 128))\n",
        "img = image.img_to_array(img)\n",
        "img = img.reshape((3,128,128))\n",
        "\n",
        "Museum = np.array(img)\n",
        "Museum = Museum[np.newaxis, :, :, :]\n",
        "\n",
        "for ii, image_list in enumerate(image_lists): \n",
        "  if ii is not 0 :\n",
        "    img = image.load_img(os.path.join('./gdrive/My Drive/AILeader_Dataset/박물관/',image_list), target_size=(128, 128))\n",
        "    x = image.img_to_array(img)\n",
        "    x = x.reshape((3,128,128))\n",
        "    x = x[np.newaxis, :, :, :]\n",
        "    Museum = np.concatenate((Museum, x))\n",
        "\n",
        "\n",
        "np.save('./gdrive/My Drive/AILeader_Dataset/박물관',Museum)\n",
        "    \n",
        "Museum.shape"
      ],
      "execution_count": 0,
      "outputs": []
    },
    {
      "cell_type": "code",
      "metadata": {
        "id": "CiGbnAco9Wr-",
        "colab_type": "code",
        "colab": {}
      },
      "source": [
        "image_lists = os.listdir(os.path.join('./gdrive/My Drive/AILeader_Dataset/광나루안전체험관/'))\n",
        "image_lists.sort()\n",
        "\n",
        "img = image.load_img(os.path.join('./gdrive/My Drive/AILeader_Dataset/광나루안전체험관/',image_lists[0]), target_size=(128, 128))\n",
        "img = image.img_to_array(img)\n",
        "img = img.reshape((3,128,128))\n",
        "\n",
        "Experience_Center = np.array(img)\n",
        "Experience_Center = Experience_Center[np.newaxis, :, :, :]\n",
        "\n",
        "for ii, image_list in enumerate(image_lists): \n",
        "  if ii is not 0 :\n",
        "    img = image.load_img(os.path.join('./gdrive/My Drive/AILeader_Dataset/광나루안전체험관/',image_list), target_size=(128, 128))\n",
        "    x = image.img_to_array(img)\n",
        "    x = x.reshape((3,128,128))\n",
        "    x = x[np.newaxis, :, :, :]\n",
        "    Experience_Center = np.concatenate((Experience_Center, x))\n",
        "\n",
        "\n",
        "np.save('./gdrive/My Drive/AILeader_Dataset/광나루안전체험관',Experience_Center)\n",
        "    \n",
        "Experience_Center.shape"
      ],
      "execution_count": 0,
      "outputs": []
    },
    {
      "cell_type": "code",
      "metadata": {
        "id": "PrlZYo009XJ3",
        "colab_type": "code",
        "colab": {}
      },
      "source": [
        "image_lists = os.listdir(os.path.join('./gdrive/My Drive/AILeader_Dataset/기숙사/'))\n",
        "image_lists.sort()\n",
        "\n",
        "img = image.load_img(os.path.join('./gdrive/My Drive/AILeader_Dataset/기숙사/',image_lists[0]), target_size=(128, 128))\n",
        "img = image.img_to_array(img)\n",
        "img = img.reshape((3,128,128))\n",
        "\n",
        "Dormitory = np.array(img)\n",
        "Dormitory = Dormitory[np.newaxis, :, :, :]\n",
        "\n",
        "for ii, image_list in enumerate(image_lists): \n",
        "  if ii is not 0 :\n",
        "    img = image.load_img(os.path.join('./gdrive/My Drive/AILeader_Dataset/기숙사/',image_list), target_size=(128, 128))\n",
        "    x = image.img_to_array(img)\n",
        "    x = x.reshape((3,128,128))\n",
        "    x = x[np.newaxis, :, :, :]\n",
        "    Dormitory = np.concatenate((Museum, x))\n",
        "\n",
        "\n",
        "np.save('./gdrive/My Drive/AILeader_Dataset/기숙사',Dormitory)\n",
        "    \n",
        "Dormitory.shape"
      ],
      "execution_count": 0,
      "outputs": []
    },
    {
      "cell_type": "code",
      "metadata": {
        "id": "9aahoV_G9aVA",
        "colab_type": "code",
        "colab": {}
      },
      "source": [
        "image_lists = os.listdir(os.path.join('./gdrive/My Drive/AILeader_Dataset/석상(대양홀앞)/'))\n",
        "image_lists.sort()\n",
        "\n",
        "img = image.load_img(os.path.join('./gdrive/My Drive/AILeader_Dataset/석상(대양홀앞)/',image_lists[0]), target_size=(128, 128))\n",
        "img = image.img_to_array(img)\n",
        "img = img.reshape((3,128,128))\n",
        "\n",
        "Stone_Statue = np.array(img)\n",
        "Stone_Statue = Stone_Statue[np.newaxis, :, :, :]\n",
        "\n",
        "for ii, image_list in enumerate(image_lists): \n",
        "  if ii is not 0 :\n",
        "    img = image.load_img(os.path.join('./gdrive/My Drive/AILeader_Dataset/석상(대양홀앞)/',image_list), target_size=(128, 128))\n",
        "    x = image.img_to_array(img)\n",
        "    x = x.reshape((3,128,128))\n",
        "    x = x[np.newaxis, :, :, :]\n",
        "    Stone_Statue = np.concatenate((Stone_Statue, x))\n",
        "\n",
        "\n",
        "np.save('./gdrive/My Drive/AILeader_Dataset/석상(대양홀앞)',Stone_Statue)\n",
        "    \n",
        "Stone_Statue.shape"
      ],
      "execution_count": 0,
      "outputs": []
    },
    {
      "cell_type": "code",
      "metadata": {
        "id": "E6PoAkMl9eiX",
        "colab_type": "code",
        "colab": {}
      },
      "source": [
        "image_lists = os.listdir(os.path.join('./gdrive/My Drive/AILeader_Dataset/소방서/'))\n",
        "image_lists.sort()\n",
        "\n",
        "img = image.load_img(os.path.join('./gdrive/My Drive/AILeader_Dataset/소방서/',image_lists[0]), target_size=(128, 128))\n",
        "img = image.img_to_array(img)\n",
        "img = img.reshape((3,128,128))\n",
        "\n",
        "Fire_Station = np.array(img)\n",
        "Fire_Station = Fire_Station[np.newaxis, :, :, :]\n",
        "\n",
        "for ii, image_list in enumerate(image_lists): \n",
        "  if ii is not 0 :\n",
        "    img = image.load_img(os.path.join('./gdrive/My Drive/AILeader_Dataset/소방서/',image_list), target_size=(128, 128))\n",
        "    x = image.img_to_array(img)\n",
        "    x = x.reshape((3,128,128))\n",
        "    x = x[np.newaxis, :, :, :]\n",
        "    Fire_Station = np.concatenate((Fire_Station, x))\n",
        "\n",
        "\n",
        "np.save('./gdrive/My Drive/AILeader_Dataset/소방서',Fire_Station)\n",
        "    \n",
        "Fire_Station.shape"
      ],
      "execution_count": 0,
      "outputs": []
    },
    {
      "cell_type": "code",
      "metadata": {
        "id": "y0NdjiCe9eRN",
        "colab_type": "code",
        "colab": {}
      },
      "source": [
        "image_lists = os.listdir(os.path.join('./gdrive/My Drive/AILeader_Dataset/학생회관/'))\n",
        "image_lists.sort()\n",
        "\n",
        "img = image.load_img(os.path.join('./gdrive/My Drive/AILeader_Dataset/학생회관/',image_lists[0]), target_size=(128, 128))\n",
        "img = image.img_to_array(img)\n",
        "img = img.reshape((3,128,128))\n",
        "\n",
        "Student_Hall = np.array(img)\n",
        "Student_Hall = Student_Hall[np.newaxis, :, :, :]\n",
        "\n",
        "for ii, image_list in enumerate(image_lists): \n",
        "  if ii is not 0 :\n",
        "    img = image.load_img(os.path.join('./gdrive/My Drive/AILeader_Dataset/학생회관/',image_list), target_size=(128, 128))\n",
        "    x = image.img_to_array(img)\n",
        "    x = x.reshape((3,128,128))\n",
        "    x = x[np.newaxis, :, :, :]\n",
        "    Student_Hall = np.concatenate((Museum, x))\n",
        "\n",
        "\n",
        "np.save('./gdrive/My Drive/AILeader_Dataset/학생회관',Student_Hall)\n",
        "    \n",
        "Student_Hall.shape"
      ],
      "execution_count": 0,
      "outputs": []
    }
  ]
}